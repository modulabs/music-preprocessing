{
 "cells": [
  {
   "cell_type": "markdown",
   "metadata": {},
   "source": [
    "# MIDI preprocessing"
   ]
  },
  {
   "cell_type": "code",
   "execution_count": 1,
   "metadata": {},
   "outputs": [],
   "source": [
    "import mido\n",
    "import numpy as np\n",
    "import time\n",
    "import copy"
   ]
  },
  {
   "cell_type": "markdown",
   "metadata": {},
   "source": [
    "### Read MIDI file\n",
    "* 기존의 미디 파일을 읽어온다.\n",
    "* tick per beat를 확인할 수 있다."
   ]
  },
  {
   "cell_type": "code",
   "execution_count": 2,
   "metadata": {},
   "outputs": [
    {
     "name": "stdout",
     "output_type": "stream",
     "text": [
      "96\n"
     ]
    }
   ],
   "source": [
    "mid = mido.MidiFile('school.mid')\n",
    "print(mid.ticks_per_beat)"
   ]
  },
  {
   "cell_type": "markdown",
   "metadata": {},
   "source": [
    "### MIDI 메세지를 불러오는 방법에 대한 차이\n",
    "* 파일 자체에서 불러올 시 tick이 ms로 계산되어 표시\n",
    "* track 에서 불러올 시 tick으로 표시"
   ]
  },
  {
   "cell_type": "code",
   "execution_count": 3,
   "metadata": {
    "scrolled": false
   },
   "outputs": [
    {
     "name": "stdout",
     "output_type": "stream",
     "text": [
      "<meta message track_name name='\\x00' time=0>\n",
      "<meta message time_signature numerator=4 denominator=4 clocks_per_click=36 notated_32nd_notes_per_beat=8 time=0>\n",
      "<meta message time_signature numerator=4 denominator=4 clocks_per_click=36 notated_32nd_notes_per_beat=8 time=0>\n",
      "note_on channel=0 note=67 velocity=100 time=0\n",
      "note_off channel=0 note=67 velocity=64 time=0.25\n",
      "note_on channel=0 note=67 velocity=100 time=0\n",
      "note_off channel=0 note=67 velocity=64 time=0.25\n",
      "note_on channel=0 note=69 velocity=100 time=0\n",
      "note_off channel=0 note=69 velocity=64 time=0.25\n",
      "note_on channel=0 note=69 velocity=100 time=0\n",
      "note_on channel=0 note=67 velocity=100 time=0.25\n",
      "note_off channel=0 note=69 velocity=64 time=0\n",
      "note_off channel=0 note=67 velocity=64 time=0.25\n",
      "note_on channel=0 note=67 velocity=100 time=0\n",
      "note_on channel=0 note=64 velocity=100 time=0.25\n",
      "note_off channel=0 note=67 velocity=64 time=0\n",
      "note_off channel=0 note=64 velocity=64 time=0.5\n",
      "note_on channel=0 note=67 velocity=100 time=0\n",
      "note_off channel=0 note=67 velocity=64 time=0.25\n",
      "note_on channel=0 note=67 velocity=100 time=0\n",
      "note_on channel=0 note=64 velocity=100 time=0.25\n",
      "note_off channel=0 note=67 velocity=64 time=0\n",
      "note_off channel=0 note=64 velocity=64 time=0.25\n",
      "note_on channel=0 note=64 velocity=100 time=0\n",
      "note_on channel=0 note=62 velocity=100 time=0.25\n",
      "note_off channel=0 note=64 velocity=64 time=0\n",
      "note_off channel=0 note=62 velocity=64 time=0.5\n",
      "<meta message end_of_track time=0>\n"
     ]
    }
   ],
   "source": [
    "for msg in mid:\n",
    "    print(msg)\n",
    "  "
   ]
  },
  {
   "cell_type": "code",
   "execution_count": 4,
   "metadata": {},
   "outputs": [
    {
     "name": "stdout",
     "output_type": "stream",
     "text": [
      "Track 0: \u0000\n",
      "<meta message track_name name='\\x00' time=0>\n",
      "<meta message time_signature numerator=4 denominator=4 clocks_per_click=36 notated_32nd_notes_per_beat=8 time=0>\n",
      "<meta message time_signature numerator=4 denominator=4 clocks_per_click=36 notated_32nd_notes_per_beat=8 time=0>\n",
      "note_on channel=0 note=67 velocity=100 time=0\n",
      "note_off channel=0 note=67 velocity=64 time=48\n",
      "note_on channel=0 note=67 velocity=100 time=0\n",
      "note_off channel=0 note=67 velocity=64 time=48\n",
      "note_on channel=0 note=69 velocity=100 time=0\n",
      "note_off channel=0 note=69 velocity=64 time=48\n",
      "note_on channel=0 note=69 velocity=100 time=0\n",
      "note_on channel=0 note=67 velocity=100 time=48\n",
      "note_off channel=0 note=69 velocity=64 time=0\n",
      "note_off channel=0 note=67 velocity=64 time=48\n",
      "note_on channel=0 note=67 velocity=100 time=0\n",
      "note_on channel=0 note=64 velocity=100 time=48\n",
      "note_off channel=0 note=67 velocity=64 time=0\n",
      "note_off channel=0 note=64 velocity=64 time=96\n",
      "note_on channel=0 note=67 velocity=100 time=0\n",
      "note_off channel=0 note=67 velocity=64 time=48\n",
      "note_on channel=0 note=67 velocity=100 time=0\n",
      "note_on channel=0 note=64 velocity=100 time=48\n",
      "note_off channel=0 note=67 velocity=64 time=0\n",
      "note_off channel=0 note=64 velocity=64 time=48\n",
      "note_on channel=0 note=64 velocity=100 time=0\n",
      "note_on channel=0 note=62 velocity=100 time=48\n",
      "note_off channel=0 note=64 velocity=64 time=0\n",
      "note_off channel=0 note=62 velocity=64 time=96\n",
      "<meta message end_of_track time=0>\n"
     ]
    }
   ],
   "source": [
    "# beat resolution == 192\n",
    "for i, track in enumerate(mid.tracks):\n",
    "    print('Track {}: {}'.format(i, track.name))\n",
    "    for msg in track:\n",
    "        print(msg)"
   ]
  },
  {
   "cell_type": "markdown",
   "metadata": {},
   "source": [
    "### MIDI 데이터 파싱\n",
    "* 데이터에서 중요한 ON OFF 데이터 파싱\n",
    "* Velocity == 0 인 경우도 파악할 것"
   ]
  },
  {
   "cell_type": "code",
   "execution_count": 5,
   "metadata": {},
   "outputs": [],
   "source": [
    "#event : [Time, Type(ON, OFF, CC), Value1, Value2]\n",
    "def get_eventlist(data_file):\n",
    "    ON = 1\n",
    "    OFF = 0\n",
    "\n",
    "    midi = mido.MidiFile(data_file)\n",
    "\n",
    "    current_time = 0\n",
    "    eventlist = []\n",
    "    \n",
    "    for msg in midi:\n",
    "#         current_time += msg.time\n",
    "        current_time = msg.time\n",
    "        \n",
    "         # NOTE ON CASE\n",
    "        if msg.type is 'note_on' and msg.velocity > 0:\n",
    "            event = [current_time, ON, msg.note, msg.velocity]\n",
    "            eventlist.append(event)\n",
    "\n",
    "         # NOTE OFF CASE        \n",
    "        elif msg.type is 'note_off' or (msg.type is 'note_on' and msg.velocity == 0):\n",
    "            event = [current_time, OFF, msg.note, msg.velocity]\n",
    "            eventlist.append(event)\n",
    "                \n",
    "    return eventlist"
   ]
  },
  {
   "cell_type": "markdown",
   "metadata": {},
   "source": [
    "### 미디 데이터 수정\n",
    "* 같은 길이 만큼 뒤로 복사"
   ]
  },
  {
   "cell_type": "code",
   "execution_count": 6,
   "metadata": {
    "scrolled": true
   },
   "outputs": [
    {
     "name": "stdout",
     "output_type": "stream",
     "text": [
      "[[0, 1, 67, 100], [0.25, 0, 67, 64], [0, 1, 67, 100], [0.25, 0, 67, 64], [0, 1, 69, 100], [0.25, 0, 69, 64], [0, 1, 69, 100], [0.25, 1, 67, 100], [0, 0, 69, 64], [0.25, 0, 67, 64], [0, 1, 67, 100], [0.25, 1, 64, 100], [0, 0, 67, 64], [0.5, 0, 64, 64], [0, 1, 67, 100], [0.25, 0, 67, 64], [0, 1, 67, 100], [0.25, 1, 64, 100], [0, 0, 67, 64], [0.25, 0, 64, 64], [0, 1, 64, 100], [0.25, 1, 62, 100], [0, 0, 64, 64], [0.5, 0, 62, 64]]\n"
     ]
    }
   ],
   "source": [
    "midi_data = get_eventlist('school.mid')\n",
    "print(midi_data)"
   ]
  },
  {
   "cell_type": "code",
   "execution_count": 7,
   "metadata": {},
   "outputs": [
    {
     "name": "stdout",
     "output_type": "stream",
     "text": [
      "[[0, 1, 67, 100], [0.25, 0, 67, 64], [0, 1, 67, 100], [0.25, 0, 67, 64], [0, 1, 69, 100], [0.25, 0, 69, 64], [0, 1, 69, 100], [0.25, 1, 67, 100], [0, 0, 69, 64], [0.25, 0, 67, 64], [0, 1, 67, 100], [0.25, 1, 64, 100], [0, 0, 67, 64], [0.5, 0, 64, 64], [0, 1, 67, 100], [0.25, 0, 67, 64], [0, 1, 67, 100], [0.25, 1, 64, 100], [0, 0, 67, 64], [0.25, 0, 64, 64], [0, 1, 64, 100], [0.25, 1, 62, 100], [0, 0, 64, 64], [0.5, 0, 62, 64]]\n"
     ]
    }
   ],
   "source": [
    "dup = copy.deepcopy(midi_data)\n",
    "print(dup)"
   ]
  },
  {
   "cell_type": "code",
   "execution_count": 8,
   "metadata": {},
   "outputs": [],
   "source": [
    "for data in dup:\n",
    "    midi_data.append(data)"
   ]
  },
  {
   "cell_type": "code",
   "execution_count": 9,
   "metadata": {},
   "outputs": [],
   "source": [
    "get_dup_midi = np.array(midi_data)"
   ]
  },
  {
   "cell_type": "code",
   "execution_count": 10,
   "metadata": {
    "scrolled": true
   },
   "outputs": [
    {
     "data": {
      "text/plain": [
       "array([[  0.  ,   1.  ,  67.  , 100.  ],\n",
       "       [  0.25,   0.  ,  67.  ,  64.  ],\n",
       "       [  0.  ,   1.  ,  67.  , 100.  ],\n",
       "       [  0.25,   0.  ,  67.  ,  64.  ],\n",
       "       [  0.  ,   1.  ,  69.  , 100.  ],\n",
       "       [  0.25,   0.  ,  69.  ,  64.  ],\n",
       "       [  0.  ,   1.  ,  69.  , 100.  ],\n",
       "       [  0.25,   1.  ,  67.  , 100.  ],\n",
       "       [  0.  ,   0.  ,  69.  ,  64.  ],\n",
       "       [  0.25,   0.  ,  67.  ,  64.  ],\n",
       "       [  0.  ,   1.  ,  67.  , 100.  ],\n",
       "       [  0.25,   1.  ,  64.  , 100.  ],\n",
       "       [  0.  ,   0.  ,  67.  ,  64.  ],\n",
       "       [  0.5 ,   0.  ,  64.  ,  64.  ],\n",
       "       [  0.  ,   1.  ,  67.  , 100.  ],\n",
       "       [  0.25,   0.  ,  67.  ,  64.  ],\n",
       "       [  0.  ,   1.  ,  67.  , 100.  ],\n",
       "       [  0.25,   1.  ,  64.  , 100.  ],\n",
       "       [  0.  ,   0.  ,  67.  ,  64.  ],\n",
       "       [  0.25,   0.  ,  64.  ,  64.  ],\n",
       "       [  0.  ,   1.  ,  64.  , 100.  ],\n",
       "       [  0.25,   1.  ,  62.  , 100.  ],\n",
       "       [  0.  ,   0.  ,  64.  ,  64.  ],\n",
       "       [  0.5 ,   0.  ,  62.  ,  64.  ],\n",
       "       [  0.  ,   1.  ,  67.  , 100.  ],\n",
       "       [  0.25,   0.  ,  67.  ,  64.  ],\n",
       "       [  0.  ,   1.  ,  67.  , 100.  ],\n",
       "       [  0.25,   0.  ,  67.  ,  64.  ],\n",
       "       [  0.  ,   1.  ,  69.  , 100.  ],\n",
       "       [  0.25,   0.  ,  69.  ,  64.  ],\n",
       "       [  0.  ,   1.  ,  69.  , 100.  ],\n",
       "       [  0.25,   1.  ,  67.  , 100.  ],\n",
       "       [  0.  ,   0.  ,  69.  ,  64.  ],\n",
       "       [  0.25,   0.  ,  67.  ,  64.  ],\n",
       "       [  0.  ,   1.  ,  67.  , 100.  ],\n",
       "       [  0.25,   1.  ,  64.  , 100.  ],\n",
       "       [  0.  ,   0.  ,  67.  ,  64.  ],\n",
       "       [  0.5 ,   0.  ,  64.  ,  64.  ],\n",
       "       [  0.  ,   1.  ,  67.  , 100.  ],\n",
       "       [  0.25,   0.  ,  67.  ,  64.  ],\n",
       "       [  0.  ,   1.  ,  67.  , 100.  ],\n",
       "       [  0.25,   1.  ,  64.  , 100.  ],\n",
       "       [  0.  ,   0.  ,  67.  ,  64.  ],\n",
       "       [  0.25,   0.  ,  64.  ,  64.  ],\n",
       "       [  0.  ,   1.  ,  64.  , 100.  ],\n",
       "       [  0.25,   1.  ,  62.  , 100.  ],\n",
       "       [  0.  ,   0.  ,  64.  ,  64.  ],\n",
       "       [  0.5 ,   0.  ,  62.  ,  64.  ]])"
      ]
     },
     "execution_count": 10,
     "metadata": {},
     "output_type": "execute_result"
    }
   ],
   "source": [
    "get_dup_midi"
   ]
  },
  {
   "cell_type": "markdown",
   "metadata": {},
   "source": [
    "### 복사된 데이터로 미디파일 생성"
   ]
  },
  {
   "cell_type": "code",
   "execution_count": 11,
   "metadata": {
    "scrolled": false
   },
   "outputs": [
    {
     "name": "stdout",
     "output_type": "stream",
     "text": [
      "Track 0: \n",
      "<meta message set_tempo tempo=500000 time=0>\n",
      "<meta message time_signature numerator=4 denominator=4 clocks_per_click=8 notated_32nd_notes_per_beat=8 time=0>\n",
      "note_on channel=0 note=67 velocity=100 time=0\n",
      "note_off channel=0 note=67 velocity=64 time=48\n",
      "note_on channel=0 note=67 velocity=100 time=0\n",
      "note_off channel=0 note=67 velocity=64 time=48\n",
      "note_on channel=0 note=69 velocity=100 time=0\n",
      "note_off channel=0 note=69 velocity=64 time=48\n",
      "note_on channel=0 note=69 velocity=100 time=0\n",
      "note_on channel=0 note=67 velocity=100 time=48\n",
      "note_off channel=0 note=69 velocity=64 time=0\n",
      "note_off channel=0 note=67 velocity=64 time=48\n",
      "note_on channel=0 note=67 velocity=100 time=0\n",
      "note_on channel=0 note=64 velocity=100 time=48\n",
      "note_off channel=0 note=67 velocity=64 time=0\n",
      "note_off channel=0 note=64 velocity=64 time=96\n",
      "note_on channel=0 note=67 velocity=100 time=0\n",
      "note_off channel=0 note=67 velocity=64 time=48\n",
      "note_on channel=0 note=67 velocity=100 time=0\n",
      "note_on channel=0 note=64 velocity=100 time=48\n",
      "note_off channel=0 note=67 velocity=64 time=0\n",
      "note_off channel=0 note=64 velocity=64 time=48\n",
      "note_on channel=0 note=64 velocity=100 time=0\n",
      "note_on channel=0 note=62 velocity=100 time=48\n",
      "note_off channel=0 note=64 velocity=64 time=0\n",
      "note_off channel=0 note=62 velocity=64 time=96\n",
      "note_on channel=0 note=67 velocity=100 time=0\n",
      "note_off channel=0 note=67 velocity=64 time=48\n",
      "note_on channel=0 note=67 velocity=100 time=0\n",
      "note_off channel=0 note=67 velocity=64 time=48\n",
      "note_on channel=0 note=69 velocity=100 time=0\n",
      "note_off channel=0 note=69 velocity=64 time=48\n",
      "note_on channel=0 note=69 velocity=100 time=0\n",
      "note_on channel=0 note=67 velocity=100 time=48\n",
      "note_off channel=0 note=69 velocity=64 time=0\n",
      "note_off channel=0 note=67 velocity=64 time=48\n",
      "note_on channel=0 note=67 velocity=100 time=0\n",
      "note_on channel=0 note=64 velocity=100 time=48\n",
      "note_off channel=0 note=67 velocity=64 time=0\n",
      "note_off channel=0 note=64 velocity=64 time=96\n",
      "note_on channel=0 note=67 velocity=100 time=0\n",
      "note_off channel=0 note=67 velocity=64 time=48\n",
      "note_on channel=0 note=67 velocity=100 time=0\n",
      "note_on channel=0 note=64 velocity=100 time=48\n",
      "note_off channel=0 note=67 velocity=64 time=0\n",
      "note_off channel=0 note=64 velocity=64 time=48\n",
      "note_on channel=0 note=64 velocity=100 time=0\n",
      "note_on channel=0 note=62 velocity=100 time=48\n",
      "note_off channel=0 note=64 velocity=64 time=0\n",
      "note_off channel=0 note=62 velocity=64 time=96\n",
      "<meta message end_of_track time=0>\n"
     ]
    }
   ],
   "source": [
    "from mido import Message, MidiFile, MidiTrack, MetaMessage, bpm2tempo\n",
    "\n",
    "mid = MidiFile()\n",
    "mid.ticks_per_beat = 96\n",
    "\n",
    "track = MidiTrack()\n",
    "mid.tracks.append(track)\n",
    "track.append(MetaMessage(\"set_tempo\", tempo=bpm2tempo(120)))\n",
    "track.append(MetaMessage(\"time_signature\", numerator=4, denominator=4, clocks_per_click=36))\n",
    "\n",
    "for data in get_dup_midi:\n",
    "    type = {0:\"note_off\", 1:\"note_on\"}\n",
    "    data_type = type[data[1]]\n",
    "    track.append(Message(data_type, note=int(data[2]), velocity=int(data[3]), time=int(data[0]*192)))\n",
    "\n",
    "track.append(MetaMessage(\"end_of_track\"))\n",
    "\n",
    "for i, track in enumerate(mid.tracks):\n",
    "    print('Track {}: {}'.format(i, track.name))\n",
    "    for msg in track:\n",
    "        print(msg)\n",
    "        \n",
    "mid.save(\"new_school.mid\")"
   ]
  },
  {
   "cell_type": "markdown",
   "metadata": {},
   "source": [
    "### Music 21"
   ]
  },
  {
   "cell_type": "code",
   "execution_count": 4,
   "metadata": {},
   "outputs": [],
   "source": [
    "import music21\n",
    "from music21 import stream, midi\n",
    "from music21 import converter"
   ]
  },
  {
   "cell_type": "code",
   "execution_count": 5,
   "metadata": {},
   "outputs": [
    {
     "name": "stdout",
     "output_type": "stream",
     "text": [
      "{0.0} <music21.stream.Part 0x1136ae9d0>\n",
      "    {0.0} <music21.tempo.MetronomeMark animato Quarter=120.0>\n",
      "    {0.0} <music21.meter.TimeSignature 4/4>\n",
      "    {0.0} <music21.note.Note G>\n",
      "    {0.5} <music21.note.Note G>\n",
      "    {1.0} <music21.note.Note A>\n",
      "    {1.5} <music21.note.Note A>\n",
      "    {2.0} <music21.note.Note G>\n",
      "    {2.5} <music21.note.Note G>\n",
      "    {3.0} <music21.note.Note E>\n",
      "    {4.0} <music21.note.Note G>\n",
      "    {4.5} <music21.note.Note G>\n",
      "    {5.0} <music21.note.Note E>\n",
      "    {5.5} <music21.note.Note E>\n",
      "    {6.0} <music21.note.Note D>\n",
      "    {7.0} <music21.note.Note G>\n",
      "    {7.5} <music21.note.Note G>\n",
      "    {8.0} <music21.note.Note A>\n",
      "    {8.5} <music21.note.Note A>\n",
      "    {9.0} <music21.note.Note G>\n",
      "    {9.5} <music21.note.Note G>\n",
      "    {10.0} <music21.note.Note E>\n",
      "    {11.0} <music21.note.Note G>\n",
      "    {11.5} <music21.note.Note G>\n",
      "    {12.0} <music21.note.Note E>\n",
      "    {12.5} <music21.note.Note E>\n",
      "    {13.0} <music21.note.Note D>\n"
     ]
    }
   ],
   "source": [
    "mf = midi.MidiFile()\n",
    "mf.open(\"new_school.mid\")\n",
    "mf.read()\n",
    "mf.close()\n",
    "s = midi.translate.midiFileToStream(mf)\n",
    "s.show('text')"
   ]
  },
  {
   "cell_type": "code",
   "execution_count": 6,
   "metadata": {},
   "outputs": [
    {
     "name": "stdout",
     "output_type": "stream",
     "text": [
      "0.5 [67]\n",
      "0.5 [67]\n",
      "0.5 [69]\n",
      "0.5 [69]\n",
      "0.5 [67]\n",
      "0.5 [67]\n",
      "1.0 [64]\n",
      "0.5 [67]\n",
      "0.5 [67]\n",
      "0.5 [64]\n",
      "0.5 [64]\n",
      "1.0 [62]\n",
      "0.5 [67]\n",
      "0.5 [67]\n",
      "0.5 [69]\n",
      "0.5 [69]\n",
      "0.5 [67]\n",
      "0.5 [67]\n",
      "1.0 [64]\n",
      "0.5 [67]\n",
      "0.5 [67]\n",
      "0.5 [64]\n",
      "0.5 [64]\n",
      "1.0 [62]\n"
     ]
    }
   ],
   "source": [
    "for part in s.parts:\n",
    "    for n in part.flat.notesAndRests:\n",
    "        if n.isRest:\n",
    "            dur = n.duration.quarterLength\n",
    "            note_num = \"<REST>\"\n",
    "            print(dur, note_num)\n",
    "        else:\n",
    "            dur = n.duration.quarterLength\n",
    "            note_num = sorted(set([p.midi for p in n.pitches]))\n",
    "            print(dur, list(note_num))"
   ]
  },
  {
   "cell_type": "code",
   "execution_count": 7,
   "metadata": {},
   "outputs": [
    {
     "data": {
      "text/plain": [
       "'new_school_21.mid'"
      ]
     },
     "execution_count": 7,
     "metadata": {},
     "output_type": "execute_result"
    }
   ],
   "source": [
    "s.write('midi','new_school_21.mid')"
   ]
  },
  {
   "cell_type": "code",
   "execution_count": null,
   "metadata": {},
   "outputs": [],
   "source": []
  }
 ],
 "metadata": {
  "kernelspec": {
   "display_name": "Python 3",
   "language": "python",
   "name": "python3"
  },
  "language_info": {
   "codemirror_mode": {
    "name": "ipython",
    "version": 3
   },
   "file_extension": ".py",
   "mimetype": "text/x-python",
   "name": "python",
   "nbconvert_exporter": "python",
   "pygments_lexer": "ipython3",
   "version": "3.7.6"
  }
 },
 "nbformat": 4,
 "nbformat_minor": 2
}
